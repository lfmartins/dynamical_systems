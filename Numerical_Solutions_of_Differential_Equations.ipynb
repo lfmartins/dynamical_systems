{
  "nbformat": 4,
  "nbformat_minor": 0,
  "metadata": {
    "colab": {
      "provenance": [],
      "authorship_tag": "ABX9TyMd0mRhGbjwbPj61yaVERTu",
      "include_colab_link": true
    },
    "kernelspec": {
      "name": "python3",
      "display_name": "Python 3"
    },
    "language_info": {
      "name": "python"
    }
  },
  "cells": [
    {
      "cell_type": "markdown",
      "metadata": {
        "id": "view-in-github",
        "colab_type": "text"
      },
      "source": [
        "<a href=\"https://colab.research.google.com/github/lfmartins/dynamical_systems/blob/main/Numerical_Solutions_of_Differential_Equations.ipynb\" target=\"_parent\"><img src=\"https://colab.research.google.com/assets/colab-badge.svg\" alt=\"Open In Colab\"/></a>"
      ]
    },
    {
      "cell_type": "markdown",
      "source": [
        "In this notebook, we show how to solve differential equations numerically using Python.\n",
        "\n",
        "The main tool we will use is the function `solve.ivp` in the module `scipy.integrate`.\n",
        "\n",
        "This function is designed to approximately solve an initial value problem:\n",
        "$$\n",
        "\\frac{dx}{dt}=f(t, x),\\quad x(t_0)=x_0\n",
        "$$\n",
        "\n",
        "Here, $x(t)\\in\\mathbb{R}^n$, that is, we can solve general *systems* of differential equations.\n",
        "\n",
        "Execute the next cell to load the modules and functions used in this notebook:"
      ],
      "metadata": {
        "id": "8UgU--1xwOVP"
      }
    },
    {
      "cell_type": "code",
      "execution_count": null,
      "metadata": {
        "id": "k4E38gjHv9Y5"
      },
      "outputs": [],
      "source": [
        "import numpy as np\n",
        "import matplotlib.pyplot as plt\n",
        "from scipy.integrate import solve_ivp"
      ]
    },
    {
      "cell_type": "markdown",
      "source": [
        "# First-order differential equations in one dimension"
      ],
      "metadata": {
        "id": "sgDtlDgRyeYF"
      }
    },
    {
      "cell_type": "markdown",
      "source": [
        "## First Example\n",
        "\n",
        "Let's solve the following initial value problem:\n",
        "$$\n",
        "\\dot{x}=t-x,\\quad x(0)=1\n",
        "$$\n",
        "Solving a differential equation numerically is a two-step process:\n",
        "\n",
        "- Create a Python function that represents the right-hand side of the equation.\n",
        "- Call `solve_ivp()` to compute the solution.\n",
        "\n",
        "The right-hand side of the equation is the function $f(t,x)$, which can be defined in Python in the following way:"
      ],
      "metadata": {
        "id": "p2XXK0fpy1G_"
      }
    },
    {
      "cell_type": "code",
      "source": [
        "def diffeq(t, x):\n",
        "  return t - x"
      ],
      "metadata": {
        "id": "wghWtZh9zCQz"
      },
      "execution_count": null,
      "outputs": []
    },
    {
      "cell_type": "markdown",
      "source": [
        "The following is the most basic example of a call to `solve_ivp()`:"
      ],
      "metadata": {
        "id": "evAXooXd0JAT"
      }
    },
    {
      "cell_type": "code",
      "source": [
        "sol = solve_ivp(diffeq, [0.0, 3.0], [1.0])"
      ],
      "metadata": {
        "id": "ey-f0Dle0HjL"
      },
      "execution_count": null,
      "outputs": []
    },
    {
      "cell_type": "markdown",
      "source": [
        "The arguments for this call are:\n",
        "\n",
        "- `diffeq`: a Python function that computes the right-hand side of the differential equation.\n",
        "- `[0.0, 3.0]`: the $t$-range where the solution is computed.\n",
        "- `[1.0]`: the initial condition. Notice that this has be entered as a list (or vector).\n",
        "\n",
        "Let's take a look at the solution:"
      ],
      "metadata": {
        "id": "CmMNK49z029H"
      }
    },
    {
      "cell_type": "code",
      "source": [
        "sol"
      ],
      "metadata": {
        "colab": {
          "base_uri": "https://localhost:8080/"
        },
        "id": "TgO28mLX0qJt",
        "outputId": "0ea5f9e3-32bf-4d8b-dc29-d2e02967530c"
      },
      "execution_count": null,
      "outputs": [
        {
          "output_type": "execute_result",
          "data": {
            "text/plain": [
              "  message: 'The solver successfully reached the end of the integration interval.'\n",
              "     nfev: 32\n",
              "     njev: 0\n",
              "      nlu: 0\n",
              "      sol: None\n",
              "   status: 0\n",
              "  success: True\n",
              "        t: array([0.        , 0.08707246, 0.89912411, 1.66864823, 2.60007906,\n",
              "       3.        ])\n",
              " t_events: None\n",
              "        y: array([[1.        , 0.92029381, 0.7131988 , 1.04582535, 1.74879205,\n",
              "        2.09969339]])\n",
              " y_events: None"
            ]
          },
          "metadata": {},
          "execution_count": 23
        }
      ]
    },
    {
      "cell_type": "markdown",
      "source": [
        "The first line states that the solution process was successful. A little further down, there are two vectors:\n",
        "\n",
        "- `t` is the vector of times for which the solution is computed.\n",
        "- `y` is the vector of solution values (`solve_ivp()` always uses `y` for the dependent variable).\n",
        "\n",
        "Let's look at these vectors in more detail:"
      ],
      "metadata": {
        "id": "xescn-PR1v0W"
      }
    },
    {
      "cell_type": "code",
      "source": [
        "print(sol.t)\n",
        "print(sol.y)"
      ],
      "metadata": {
        "colab": {
          "base_uri": "https://localhost:8080/"
        },
        "id": "bAkNbzhT0vdA",
        "outputId": "261c5ca5-9854-44f7-a964-3c0801995964"
      },
      "execution_count": null,
      "outputs": [
        {
          "output_type": "stream",
          "name": "stdout",
          "text": [
            "[0.         0.08707246 0.89912411 1.66864823 2.60007906 3.        ]\n",
            "[[1.         0.92029381 0.7131988  1.04582535 1.74879205 2.09969339]]\n"
          ]
        }
      ]
    },
    {
      "cell_type": "markdown",
      "source": [
        "From this output, we can see, for example that $x(0.92562652)\\approx 3.12134095$. Notice that, in this version of the call, we don't get to choose the time values where the solution is evaluated. This can be done in the following call:"
      ],
      "metadata": {
        "id": "Jm8E5rrv2b_0"
      }
    },
    {
      "cell_type": "code",
      "source": [
        "sol = solve_ivp(diffeq, [0.0, 5.0], [1.0], t_eval=np.linspace(0.0, 5.0, 101))\n",
        "print(sol.message)"
      ],
      "metadata": {
        "colab": {
          "base_uri": "https://localhost:8080/"
        },
        "id": "T0S53ew22UUr",
        "outputId": "426ad3f3-9f2b-4709-ccd9-ce462c3dc51e"
      },
      "execution_count": null,
      "outputs": [
        {
          "output_type": "stream",
          "name": "stdout",
          "text": [
            "The solver successfully reached the end of the integration interval.\n"
          ]
        }
      ]
    },
    {
      "cell_type": "markdown",
      "source": [
        "The option `t_eval=np.linspace(0.0, 5.0, 101)` tells `solve.ivp()` that we want the solution in 101 equally spaced points in the interval `[0.0, 5.0]`. Notice that, instead of printing the whole solution object, we just print the diagnostic message issued by the function call.\n",
        "\n",
        "We can now plot the solution:"
      ],
      "metadata": {
        "id": "hNzkzkZl3cyw"
      }
    },
    {
      "cell_type": "code",
      "source": [
        "plt.plot(sol.t, sol.y[0])\n",
        "None"
      ],
      "metadata": {
        "colab": {
          "base_uri": "https://localhost:8080/",
          "height": 265
        },
        "id": "G28UVezm3LI_",
        "outputId": "660a699e-15c5-4504-90dd-41440c1d649d"
      },
      "execution_count": null,
      "outputs": [
        {
          "output_type": "display_data",
          "data": {
            "text/plain": [
              "<Figure size 432x288 with 1 Axes>"
            ],
            "image/png": "[encoded data removed]"
          },
          "metadata": {
            "needs_background": "light"
          }
        }
      ]
    },
    {
      "cell_type": "markdown",
      "source": [
        "Notice that in the plot we refer to `sol.y[0]`. This is the first row of the array `sol.y`. When solving a system, each row represents a component of the solution, computed at the times specified by the parameter `t_eval`.\n",
        "\n",
        "This plot seems a little simple. We can improve it as follows:"
      ],
      "metadata": {
        "id": "TTuR7M3D4ls2"
      }
    },
    {
      "cell_type": "code",
      "source": [
        "plt.figure(figsize=(8,6))\n",
        "plt.plot(sol.t, sol.y[0], color='red', lw=2)\n",
        "plt.axhline(0, color='black', lw=1)\n",
        "plt.axvline(0, color='black', lw=1)\n",
        "plt.xlabel('$t$')\n",
        "plt.ylabel('$x$')\n",
        "plt.title('Solution of the IVP $\\\\dot{x}=t-x$, $x(0)=1$')\n",
        "None"
      ],
      "metadata": {
        "colab": {
          "base_uri": "https://localhost:8080/",
          "height": 409
        },
        "id": "zhzvbQ_f4lEu",
        "outputId": "067bde3b-4719-4c6e-990d-8db208c520d9"
      },
      "execution_count": null,
      "outputs": [
        {
          "output_type": "display_data",
          "data": {
            "text/plain": [
              "<Figure size 576x432 with 1 Axes>"
            ],
            "image/png": "[encoded data removed]"
          },
          "metadata": {
            "needs_background": "light"
          }
        }
      ]
    },
    {
      "cell_type": "markdown",
      "source": [
        "The function `solve_ivp()` accepts several parameters, allowing full control of the integration method. By default, `solve_ivp()` uses the method `RK45`, which is a Runge-Kutta method of order 5(4), which uses a fourth-order approximation for error control, and a fifth-order approximation in the integration steps. This method yields a good approximation in most cases."
      ],
      "metadata": {
        "id": "S7nndO9v5y_g"
      }
    },
    {
      "cell_type": "markdown",
      "source": [
        "### Exercises\n",
        "\n",
        "**1.** Solve the IVP:\n",
        "$$\n",
        "\\dot{x}=tx,\\quad x(1)=2.\n",
        "$$\n",
        "Plot the solution in the interval $[1,5]$. Then, solve the IVP by the method of separation of variables compare your exact solution with the numerical solution. Finally, produce a plot of the solution."
      ],
      "metadata": {
        "id": "4U-D1nwb7HKi"
      }
    },
    {
      "cell_type": "code",
      "source": [],
      "metadata": {
        "id": "j99NtJ3n4Sf4"
      },
      "execution_count": null,
      "outputs": []
    },
    {
      "cell_type": "markdown",
      "source": [
        "**2.** Solve the IVP:\n",
        "$$\n",
        "\\dot{N}=0.3N\\left(1-\\frac{N}{15.35}\\right)\n",
        "$$\n",
        "Before solving the IVP numerically, determine $\\lim_{t\\to\\infty}x(t)$ analytically. Then use the numerical solution to verify the limit. Also generate a plot of the solution."
      ],
      "metadata": {
        "id": "6zccwqUY736R"
      }
    },
    {
      "cell_type": "code",
      "source": [],
      "metadata": {
        "id": "osxi67f08hh3"
      },
      "execution_count": null,
      "outputs": []
    },
    {
      "cell_type": "markdown",
      "source": [
        "**3.** Solve the IVP:\n",
        "$$\n",
        "\\dot{x}=\\sqrt{1+x^4},\\quad x(0)=2\n",
        "$$\n",
        "and generate a graph of the solution. Describe the solution qualitatively. Can you prove your observations?"
      ],
      "metadata": {
        "id": "vwj_t7gY8kiY"
      }
    },
    {
      "cell_type": "code",
      "source": [],
      "metadata": {
        "id": "fJhk3Avu8kIV"
      },
      "execution_count": null,
      "outputs": []
    },
    {
      "cell_type": "markdown",
      "source": [
        "**4.** Solve the following IVP numerically in the interval $[0,1]$\n",
        "$$\n",
        "\\dot{x}=x,\\quad x(0)=1.\n",
        "$$\n",
        "We know that the exact solution of the IVP is $x(t)=e^t$. Use this to obtain an approximation for $e$ from the numerical method. How good is the approximation?"
      ],
      "metadata": {
        "id": "bPLcOHSSFJtV"
      }
    },
    {
      "cell_type": "markdown",
      "source": [
        "## Equations with Parameters\n",
        "\n",
        "In many cases, we want to solve equations that contain parameters. One example is the logistic model of population growth, represented by the differential equation:\n",
        "$$\n",
        "\\dot{N}=rN\\left(1-\\frac{N}{K}\\right)\n",
        "$$\n",
        "Here, $r$ and $K$ are parameters modeling, respectively, the growth rate of small populations and the carrying capacity.\n",
        "\n",
        "We start, as before, by defining the function representing the ODE, including the parameters $r$ and $K$:"
      ],
      "metadata": {
        "id": "F0bdn7Eh9YQC"
      }
    },
    {
      "cell_type": "code",
      "source": [
        "def logistic_model(t, N, r, K):\n",
        "  return r * N * (1 - N / K)"
      ],
      "metadata": {
        "id": "2147pmxZ9up3"
      },
      "execution_count": null,
      "outputs": []
    },
    {
      "cell_type": "markdown",
      "source": [
        "Let's now say we want to find the solution of the ODE with parameters $r=0.3$ and $K=15.35$ for the initial condition $N(0)=5.7$. We can do that with the following code:"
      ],
      "metadata": {
        "id": "jXe-1-TQ-cTT"
      }
    },
    {
      "cell_type": "code",
      "source": [
        "sol = solve_ivp(logistic_model, [0, 20], [5.7], t_eval=np.linspace(0, 20, 101), args=[0.3, 13.35])\n",
        "print(sol.message)"
      ],
      "metadata": {
        "colab": {
          "base_uri": "https://localhost:8080/"
        },
        "id": "iT-7KOOK-bHy",
        "outputId": "e021c40b-52ec-4ff7-e00c-0873fb8f2a7d"
      },
      "execution_count": null,
      "outputs": [
        {
          "output_type": "stream",
          "name": "stdout",
          "text": [
            "The solver successfully reached the end of the integration interval.\n"
          ]
        }
      ]
    },
    {
      "cell_type": "markdown",
      "source": [
        "Let's plot the solution:"
      ],
      "metadata": {
        "id": "kpuWtkitCk1p"
      }
    },
    {
      "cell_type": "code",
      "source": [
        "plt.figure(figsize=(8,6))\n",
        "plt.plot(sol.t, sol.y[0], color='red', lw=2)\n",
        "None"
      ],
      "metadata": {
        "colab": {
          "base_uri": "https://localhost:8080/",
          "height": 374
        },
        "id": "alFRvqMLCjkB",
        "outputId": "796aa009-687b-48e9-a329-891e64211bd6"
      },
      "execution_count": null,
      "outputs": [
        {
          "output_type": "display_data",
          "data": {
            "text/plain": [
              "<Figure size 576x432 with 1 Axes>"
            ],
            "image/png": "[encoded data removed]"
          },
          "metadata": {
            "needs_background": "light"
          }
        }
      ]
    },
    {
      "cell_type": "markdown",
      "source": [
        "Let's say we want to compare the growth of this population with one for which $r=0.1$, but has the same carrying capacity. We do this in the next computation cells:"
      ],
      "metadata": {
        "id": "enV_FzAlD3EG"
      }
    },
    {
      "cell_type": "code",
      "source": [
        "sol1 = solve_ivp(logistic_model, [0, 20], [5.7], t_eval=np.linspace(0, 20, 101), args=[0.1, 13.35])\n",
        "print(sol.message)"
      ],
      "metadata": {
        "colab": {
          "base_uri": "https://localhost:8080/"
        },
        "id": "HRx44UBIC-FX",
        "outputId": "bcc7730d-1d7e-4699-b90f-451987854230"
      },
      "execution_count": null,
      "outputs": [
        {
          "output_type": "stream",
          "name": "stdout",
          "text": [
            "The solver successfully reached the end of the integration interval.\n"
          ]
        }
      ]
    },
    {
      "cell_type": "code",
      "source": [
        "plt.figure(figsize=(8,6))\n",
        "plt.plot(sol.t, sol.y[0], color='red', lw=2)\n",
        "plt.plot(sol1.t, sol1.y[0], color='blue', lw=2)\n",
        "None"
      ],
      "metadata": {
        "colab": {
          "base_uri": "https://localhost:8080/",
          "height": 374
        },
        "id": "mU7xuCKgEWez",
        "outputId": "5fb307d6-df07-4e00-9be6-b6362445abd6"
      },
      "execution_count": null,
      "outputs": [
        {
          "output_type": "display_data",
          "data": {
            "text/plain": [
              "<Figure size 576x432 with 1 Axes>"
            ],
            "image/png": "[encoded data removed]"
          },
          "metadata": {
            "needs_background": "light"
          }
        }
      ]
    },
    {
      "cell_type": "markdown",
      "source": [
        "### Exercises\n",
        "\n",
        "**5**. What is the limit of the solutions in the example above as $t\\to\\infty$? Are the limits of the two curves the same? Plot a graph in a wider range to verify your conjecture."
      ],
      "metadata": {
        "id": "SdiASkfoEsEm"
      }
    },
    {
      "cell_type": "markdown",
      "source": [
        "**6.** Recall the Gompertz model for tumor growth:\n",
        "$$\n",
        "\\dot{N}=-a\\log(bN).\n",
        "$$\n",
        "In class, we deduced the following:\n",
        "\n",
        "- The limit tumor size is $1/b$.\n",
        "- The tumor grows the fastest when it has size $e^{-1}/b$\n",
        "- The largest rate of growth is $a$.\n",
        "\n",
        "Use numerical solutions to verify these statements, using the following protocol:\n",
        "\n",
        "- Choose three different examples for the set of parameters $\\{a,b\\}$.\n",
        "- For each parameter set, solve the equation numerically for two different initial conditions.\n",
        "- Check if the three statements above are correct in each case. Demonstrate your conclusions both graphically and numerically."
      ],
      "metadata": {
        "id": "EjZiotaWHD17"
      }
    },
    {
      "cell_type": "code",
      "source": [],
      "metadata": {
        "id": "Nle40QvyEjST"
      },
      "execution_count": null,
      "outputs": []
    }
  ]
}